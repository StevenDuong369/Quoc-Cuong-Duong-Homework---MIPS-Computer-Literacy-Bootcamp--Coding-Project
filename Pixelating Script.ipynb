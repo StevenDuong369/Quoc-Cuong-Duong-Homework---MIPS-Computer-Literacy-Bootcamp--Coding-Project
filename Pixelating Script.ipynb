{
 "cells": [
  {
   "cell_type": "code",
   "execution_count": null,
   "id": "198eed22",
   "metadata": {},
   "outputs": [],
   "source": [
    "from PIL import Image\n",
    "#This script blur the photo by pixelating it (turning the photo into a grid and combining all the pixels in each block of the grid into one). \n",
    "#Step 1. Load the image\n",
    "image = Image.open(\"photo.jpg\")\n",
    "image = image.convert(\"RGB\") \n",
    "width, height = image.size\n",
    "\n",
    "# Step 2. Define block size as 5% of image dimensions\n",
    "block_w = max(1, width // 20)\n",
    "block_h = max(1, height // 20)\n",
    "\n",
    "print(f\"Block size: {block_w}x{block_h} pixels\")\n",
    "\n",
    "# Step 3. Prepare the variables for processing (output image and pixel access)\n",
    "output = Image.new(\"RGB\", (width, height)) #output file color  format\n",
    "pixels = image.load()\n",
    "out_pixels = output.load()\n",
    "\n",
    "# Step 4. Process each block\n",
    "for y in range(0, height, block_h):\n",
    "    for x in range(0, width, block_w):\n",
    "        r_total = g_total = b_total = count = 0\n",
    "        \n",
    "        # Sum the value for each color (red, green, blue) in this block\n",
    "        for i in range(y, min(y + block_h, height)):\n",
    "            for j in range(x, min(x + block_w, width)):\n",
    "                r, g, b = pixels[j, i]\n",
    "                r_total += r\n",
    "                g_total += g\n",
    "                b_total += b\n",
    "                count += 1\n",
    "        \n",
    "        # Calculate the average color for the whole block (average values from all pixels in the block)\n",
    "        avg_color = (r_total // count, g_total // count, b_total // count) # Average color as (R, G, B) with the average values round up into an interger \n",
    "        \n",
    "        # Fill the block in the output image\n",
    "        for i in range(y, min(y + block_h, height)):\n",
    "            for j in range(x, min(x + block_w, width)):\n",
    "                out_pixels[j, i] = avg_color\n",
    "\n",
    "# Step 5. Save and show the result\n",
    "output.show()\n",
    "output.save(\"blured_photo.jpg\")\n"
   ]
  }
 ],
 "metadata": {
  "kernelspec": {
   "display_name": "myenv",
   "language": "python",
   "name": "python3"
  },
  "language_info": {
   "codemirror_mode": {
    "name": "ipython",
    "version": 3
   },
   "file_extension": ".py",
   "mimetype": "text/x-python",
   "name": "python",
   "nbconvert_exporter": "python",
   "pygments_lexer": "ipython3",
   "version": "3.10.19"
  }
 },
 "nbformat": 4,
 "nbformat_minor": 5
}
